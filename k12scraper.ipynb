{
 "cells": [
  {
   "cell_type": "code",
   "execution_count": 2,
   "id": "a94f23d3",
   "metadata": {},
   "outputs": [],
   "source": [
    "import pandas\n",
    "from bs4 import BeautifulSoup\n",
    "import splinter"
   ]
  },
  {
   "cell_type": "code",
   "execution_count": 4,
   "id": "3bbb2f2f",
   "metadata": {},
   "outputs": [],
   "source": [
    "browser = splinter.Browser()\n",
    "browser.visit(\"https://tutor.tutoring.k12.com/\")"
   ]
  },
  {
   "cell_type": "code",
   "execution_count": 7,
   "id": "18a92da8",
   "metadata": {},
   "outputs": [],
   "source": [
    "# local file with username and password\n",
    "# don't include this file in repo\n",
    "import password"
   ]
  },
  {
   "cell_type": "code",
   "execution_count": 11,
   "id": "1414463a",
   "metadata": {},
   "outputs": [],
   "source": [
    "soup = BeautifulSoup(browser.html)"
   ]
  },
  {
   "cell_type": "code",
   "execution_count": 39,
   "id": "6cdd2b72",
   "metadata": {},
   "outputs": [
    {
     "data": {
      "text/plain": [
       "<div class=\"tw-bg-white tw-border tw-border-gray-300 md:tw-h-[78px] tw-transition-colors tw-duration-2000 tw-rounded-lg tw-px-4 tw-py-2 tw-flex tw-justify-between tw-items-center tw-mt-[12px] max-sm:tw-flex-wrap tw-cursor-pointer\" role=\"button\" tabindex=\"0\"><div class=\"tw-flex tw-flex-col\"><div class=\"tw-font-beatrice-medium tw-text-[16px] tw-font-black tw-leading-[24px] tw-text-left tw-gap-0 tw-text-[#101828)]\" title=\"Kyunghee Kim, Math 6 \">Kyunghee Kim, Math 6</div><div class=\"tw-text-gray-500 tw-text-sm tw-flex tw-items-center tw-mt-2 tw-space-x-4 max-sm:tw-space-x-0 tw-flex-wrap\"><div class=\"tw-flex max-sm:tw-flex-row tw-gap-4\"><span class=\"tw-flex tw-items-center max-sm:tw-mt-1\"><svg fill=\"none\" height=\"18\" viewbox=\"0 0 18 18\" width=\"18\" xmlns=\"http://www.w3.org/2000/svg\"><path clip-rule=\"evenodd\" d=\"M4.62109 1.5H7.37891C7.77427 1.49999 8.11534 1.49998 8.39627 1.52293C8.69278 1.54715 8.98769 1.60064 9.27148 1.74524C9.69484 1.96095 10.0391 2.30516 10.2548 2.72852C10.3994 3.01231 10.4528 3.30722 10.4771 3.60373C10.5 3.88466 10.5 4.22574 10.5 4.62111V7.5L13.3789 7.5C13.7743 7.49999 14.1153 7.49998 14.3963 7.52293C14.6928 7.54715 14.9877 7.60064 15.2715 7.74524C15.6948 7.96095 16.0391 8.30516 16.2548 8.72852C16.3994 9.01231 16.4528 9.30722 16.4771 9.60373C16.5 9.88465 16.5 10.2257 16.5 10.6211V15C16.9142 15 17.25 15.3358 17.25 15.75C17.25 16.1642 16.9142 16.5 16.5 16.5H1.5C1.08579 16.5 0.75 16.1642 0.75 15.75C0.75 15.3358 1.08579 15 1.5 15V4.62109C1.49999 4.22573 1.49997 3.88466 1.52293 3.60373C1.54715 3.30722 1.60064 3.01231 1.74524 2.72852C1.96095 2.30516 2.30516 1.96095 2.72852 1.74524C3.01231 1.60064 3.30722 1.54715 3.60373 1.52293C3.88466 1.49998 4.22573 1.49999 4.62109 1.5ZM3 15H9V4.65C9 4.21759 8.99942 3.93838 8.98205 3.72588C8.96541 3.52213 8.93715 3.44659 8.91825 3.40951C8.84635 3.26839 8.73161 3.15365 8.59049 3.08175C8.55341 3.06285 8.47787 3.03459 8.27412 3.01795C8.06162 3.00058 7.78242 3 7.35 3H4.65C4.21758 3 3.93838 3.00058 3.72588 3.01795C3.52213 3.03459 3.44659 3.06285 3.40951 3.08175C3.26839 3.15365 3.15365 3.26839 3.08175 3.40951C3.06285 3.44659 3.03459 3.52213 3.01795 3.72588C3.00058 3.93838 3 4.21759 3 4.65V15ZM10.5 15H15V10.65C15 10.2176 14.9994 9.93838 14.9821 9.72588C14.9654 9.52213 14.9371 9.44659 14.9183 9.40951C14.8463 9.26839 14.7316 9.15365 14.5905 9.08175C14.5534 9.06285 14.4779 9.03459 14.2741 9.01795C14.0616 9.00058 13.7824 9 13.35 9H10.5V15ZM4.125 5.25C4.125 4.83579 4.46079 4.5 4.875 4.5H7.125C7.53921 4.5 7.875 4.83579 7.875 5.25C7.875 5.66422 7.53921 6 7.125 6H4.875C4.46079 6 4.125 5.66422 4.125 5.25ZM4.125 8.25C4.125 7.83579 4.46079 7.5 4.875 7.5H7.125C7.53921 7.5 7.875 7.83579 7.875 8.25C7.875 8.66422 7.53921 9 7.125 9H4.875C4.46079 9 4.125 8.66422 4.125 8.25ZM4.125 11.25C4.125 10.8358 4.46079 10.5 4.875 10.5H7.125C7.53921 10.5 7.875 10.8358 7.875 11.25C7.875 11.6642 7.53921 12 7.125 12H4.875C4.46079 12 4.125 11.6642 4.125 11.25Z\" fill=\"#101828\" fill-rule=\"evenodd\"></path></svg><span class=\"tw-text-[16px] tw-font-normal tw-leading-[24px] tw-text-left tw-text-[#101828] tw-ml-2 tw-capitalize\">District: fcso, Friendship CSO</span></span><span class=\"tw-flex tw-items-center max-sm:tw-mt-1\"><svg fill=\"none\" height=\"18\" viewbox=\"0 0 18 18\" width=\"18\" xmlns=\"http://www.w3.org/2000/svg\"><path clip-rule=\"evenodd\" d=\"M7.125 3C5.88236 3 4.875 4.00736 4.875 5.25C4.875 6.49264 5.88236 7.5 7.125 7.5C8.36764 7.5 9.375 6.49264 9.375 5.25C9.375 4.00736 8.36764 3 7.125 3ZM3.375 5.25C3.375 3.17893 5.05393 1.5 7.125 1.5C9.19607 1.5 10.875 3.17893 10.875 5.25C10.875 7.32107 9.19607 9 7.125 9C5.05393 9 3.375 7.32107 3.375 5.25ZM10.9298 2.18666C11.0852 1.80271 11.5225 1.61745 11.9064 1.77287C13.2793 2.32861 14.25 3.67505 14.25 5.25C14.25 6.82495 13.2793 8.17139 11.9064 8.72713C11.5225 8.88255 11.0852 8.69729 10.9298 8.31334C10.7744 7.92939 10.9596 7.49215 11.3436 7.33673C12.1695 7.00239 12.75 6.19308 12.75 5.25C12.75 4.30692 12.1695 3.49761 11.3436 3.16327C10.9596 3.00785 10.7744 2.57061 10.9298 2.18666ZM5.97336 10.5H8.27664C8.95296 10.5 9.49852 10.5 9.94252 10.5303C10.3991 10.5614 10.8028 10.6271 11.1851 10.7855C12.1039 11.1661 12.8339 11.8961 13.2145 12.8149C13.3729 13.1972 13.4386 13.6009 13.4697 14.0575C13.5 14.5015 13.5 15.047 13.5 15.7234V15.75C13.5 16.1642 13.1642 16.5 12.75 16.5C12.3358 16.5 12 16.1642 12 15.75C12 15.0408 11.9996 14.5465 11.9732 14.1596C11.9473 13.7794 11.8987 13.558 11.8287 13.389C11.6004 12.8376 11.1624 12.3996 10.611 12.1713C10.442 12.1013 10.2206 12.0527 9.84041 12.0268C9.45349 12.0004 8.95917 12 8.25 12H6C5.29083 12 4.79651 12.0004 4.40959 12.0268C4.0294 12.0527 3.808 12.1013 3.63896 12.1713C3.08765 12.3996 2.64963 12.8376 2.42127 13.389C2.35125 13.558 2.30275 13.7794 2.27681 14.1596C2.25041 14.5465 2.25 15.0408 2.25 15.75C2.25 16.1642 1.91421 16.5 1.5 16.5C1.08579 16.5 0.75 16.1642 0.75 15.75L0.75 15.7234C0.749995 15.047 0.749991 14.5015 0.780285 14.0575C0.811436 13.6009 0.877109 13.1972 1.03545 12.8149C1.41605 11.8961 2.14608 11.1661 3.06494 10.7855C3.44721 10.6271 3.85092 10.5614 4.30748 10.5303C4.75148 10.5 5.29704 10.5 5.97336 10.5ZM13.5237 11.1576C13.6269 10.7564 14.0358 10.5149 14.4369 10.6182C16.0542 11.0344 17.25 12.5016 17.25 14.25V15.75C17.25 16.1642 16.9142 16.5 16.5 16.5C16.0858 16.5 15.75 16.1642 15.75 15.75V14.25C15.75 13.2026 15.0337 12.3207 14.0631 12.0708C13.6619 11.9676 13.4204 11.5587 13.5237 11.1576Z\" fill=\"#101828\" fill-rule=\"evenodd\"></path></svg><span class=\"tw-text-[16px] tw-font-normal tw-leading-[24px] tw-text-left tw-text-[#101828] tw-ml-2\" data-tooltip-content=\"\" data-tooltip-id=\"tooltip-b7fed838\" tabindex=\"0\">2</span></span></div><div class=\"tw-flex tw-items-center max-sm:tw-flex-col tw-gap-2 max-sm:!-tw-ml-4\"><span class=\"tw-text-[16px] tw-font-normal tw-flexmax-sm:tw-flex-row tw-leading-[24px] tw-text-left tw-text-[#101828] max-sm:tw-mt-1\"> 09:30 AM - 10:00 AM</span></div></div></div><div class=\"tw-flex tw-items-center tw-space-x-4 max-sm:tw-mt-1 max-sm:tw-justify-between max-sm:tw-w-full\"><div class=\"tw-flex tw-items-center tw-space-x-2 tw-justify-between tw-grow\"><div class=\"tw-flex tw-gap-2 max-sm:tw-flex-col\"><div class=\"tw-flex tw-gap-2 max-sm:tw-flex-row tw-items-center\"><span data-tooltip-content=\"\" data-tooltip-id=\"b7fed838notes\" tabindex=\"0\"><svg fill=\"none\" height=\"18\" viewbox=\"0 0 16 16\" width=\"30\" xmlns=\"http://www.w3.org/2000/svg\"><path d=\"M14.25 0.125H2C1.03487 0.125 0.25 0.909875 0.25 1.875V14.125C0.25 15.0901 1.03487 15.875 2 15.875H9C9.11493 15.8752 9.22875 15.8526 9.33492 15.8086C9.44109 15.7646 9.53751 15.7 9.61862 15.6186L15.7436 9.49362C15.8156 9.41903 15.8736 9.33222 15.9151 9.23725C15.9274 9.211 15.9344 9.18388 15.944 9.15588C15.9689 9.08266 15.9839 9.00644 15.9886 8.92925C15.9904 8.91088 16 8.89338 16 8.875V1.875C16 0.909875 15.2151 0.125 14.25 0.125ZM2 1.875H14.25V8H9C8.76794 8 8.54538 8.09219 8.38128 8.25628C8.21719 8.42038 8.125 8.64294 8.125 8.875V14.125H2V1.875ZM9.875 12.8878V9.75H13.0128L9.875 12.8878Z\" fill=\"#002A94\"></path></svg></span><div class=\"btn-group\"><button aria-expanded=\"false\" aria-haspopup=\"true\" class=\"tw-bg-transparent tw-border-none tw-p-0 tw-flex tw-items-center btn btn-secondary\" data-testid=\"dropdown-toggle\" type=\"button\"><svg fill=\"none\" height=\"18\" viewbox=\"0 0 18 18\" width=\"18\" xmlns=\"http://www.w3.org/2000/svg\"><path d=\"M9 9.75C9.41421 9.75 9.75 9.41421 9.75 9C9.75 8.58579 9.41421 8.25 9 8.25C8.58579 8.25 8.25 8.58579 8.25 9C8.25 9.41421 8.58579 9.75 9 9.75Z\" stroke=\"#101828\" stroke-linecap=\"round\" stroke-linejoin=\"round\" stroke-width=\"2\"></path><path d=\"M9 4.5C9.41421 4.5 9.75 4.16421 9.75 3.75C9.75 3.33579 9.41421 3 9 3C8.58579 3 8.25 3.33579 8.25 3.75C8.25 4.16421 8.58579 4.5 9 4.5Z\" stroke=\"#101828\" stroke-linecap=\"round\" stroke-linejoin=\"round\" stroke-width=\"2\"></path><path d=\"M9 15C9.41421 15 9.75 14.6642 9.75 14.25C9.75 13.8358 9.41421 13.5 9 13.5C8.58579 13.5 8.25 13.8358 8.25 14.25C8.25 14.6642 8.58579 15 9 15Z\" stroke=\"#101828\" stroke-linecap=\"round\" stroke-linejoin=\"round\" stroke-width=\"2\"></path></svg></button><div aria-hidden=\"true\" class=\"tw-w-[216px] tw-mt-2 tw-rounded-lg tw-shadow-lg tw-z-10 dropdown-menu\" data-bs-popper=\"static\" role=\"menu\" tabindex=\"-1\"><button class=\"tw-w-full tw-h-[52px] tw-pt-4 tw-px-4 tw-flex tw-items-start tw-gap-2.5 tw-text-left tw-border-b tw-border-gray-200 hover:tw-bg-gray-100 first:tw-rounded-tl-[3px] first:tw-rounded-tr-none last:tw-border-b-0 dropdown-item\" role=\"menuitem\" tabindex=\"0\" type=\"button\" value=\"ViewDetails\"><span class=\"tw-text-[14px] tw-font-normal tw-leading-[20px]\">View details</span></button><button class=\"tw-w-full tw-h-[52px] tw-pt-4 tw-px-4 tw-flex tw-items-start tw-gap-2.5 tw-text-left tw-border-b tw-border-gray-200 hover:tw-bg-gray-100 first:tw-rounded-tl-[3px] first:tw-rounded-tr-none last:tw-border-b-0 dropdown-item\" role=\"menuitem\" tabindex=\"0\" type=\"button\" value=\"CancelSession\"><span class=\"tw-text-[14px] tw-font-normal tw-leading-[20px]\">Cancel session</span></button></div></div></div></div></div></div></div>"
      ]
     },
     "execution_count": 39,
     "metadata": {},
     "output_type": "execute_result"
    }
   ],
   "source": [
    "sessions = soup.select(\".global_main__vHJd7>div>div+div>div>div:nth-child(2)>div:nth-child(2)>div>div>div\")[1:]\n",
    "sessions[0]"
   ]
  },
  {
   "cell_type": "code",
   "execution_count": 45,
   "id": "cb1706f2",
   "metadata": {},
   "outputs": [
    {
     "data": {
      "text/plain": [
       "'Kyunghee Kim, Math 6 '"
      ]
     },
     "execution_count": 45,
     "metadata": {},
     "output_type": "execute_result"
    }
   ],
   "source": [
    "title = sessions[0].find(\"div\").find(\"div\")['title']\n",
    "title"
   ]
  },
  {
   "cell_type": "code",
   "execution_count": 50,
   "id": "bbadde0a",
   "metadata": {},
   "outputs": [
    {
     "data": {
      "text/plain": [
       "'District: fcso, Friendship CSO2 09:30 AM - 10:00 AM'"
      ]
     },
     "execution_count": 50,
     "metadata": {},
     "output_type": "execute_result"
    }
   ],
   "source": [
    "line2 = sessions[0].select_one(\"div:nth-child(2)\")\n",
    "line2.text"
   ]
  },
  {
   "cell_type": "code",
   "execution_count": 53,
   "id": "d97ac075",
   "metadata": {},
   "outputs": [
    {
     "data": {
      "text/plain": [
       "'District: fcso, Friendship CSO'"
      ]
     },
     "execution_count": 53,
     "metadata": {},
     "output_type": "execute_result"
    }
   ],
   "source": [
    "district = line2.select_one(\"div>span:nth-child(1)\").text\n",
    "district"
   ]
  },
  {
   "cell_type": "code",
   "execution_count": 56,
   "id": "03901a8a",
   "metadata": {},
   "outputs": [
    {
     "data": {
      "text/plain": [
       "'2'"
      ]
     },
     "execution_count": 56,
     "metadata": {},
     "output_type": "execute_result"
    }
   ],
   "source": [
    "num_students = line2.select_one(\"div>span:nth-child(2)\").text\n",
    "num_students"
   ]
  },
  {
   "cell_type": "code",
   "execution_count": 59,
   "id": "5353c36b",
   "metadata": {},
   "outputs": [
    {
     "data": {
      "text/plain": [
       "'09:30 AM - 10:00 AM'"
      ]
     },
     "execution_count": 59,
     "metadata": {},
     "output_type": "execute_result"
    }
   ],
   "source": [
    "time = line2.select_one(\"div:nth-child(2)\").text.strip()\n",
    "time"
   ]
  },
  {
   "cell_type": "code",
   "execution_count": 62,
   "id": "193b5e79",
   "metadata": {},
   "outputs": [
    {
     "data": {
      "text/plain": [
       "'09:30 AM'"
      ]
     },
     "execution_count": 62,
     "metadata": {},
     "output_type": "execute_result"
    }
   ],
   "source": [
    "start = time.split(\" - \")[0].strip()\n",
    "start"
   ]
  },
  {
   "cell_type": "code",
   "execution_count": 63,
   "id": "1bf612b2",
   "metadata": {},
   "outputs": [
    {
     "data": {
      "text/plain": [
       "'10:00 AM'"
      ]
     },
     "execution_count": 63,
     "metadata": {},
     "output_type": "execute_result"
    }
   ],
   "source": [
    "end = time.split(\" - \")[1].strip()\n",
    "end"
   ]
  },
  {
   "cell_type": "code",
   "execution_count": 64,
   "id": "691ab9c6",
   "metadata": {},
   "outputs": [
    {
     "data": {
      "text/plain": [
       "{'title': 'Kyunghee Kim, Math 6 ', 'district': 'District: fcso, Friendship CSO', 'num_students': '2', 'start': '09:30 AM', 'end': '10:00 AM'}"
      ]
     },
     "execution_count": 64,
     "metadata": {},
     "output_type": "execute_result"
    }
   ],
   "source": [
    "def get_session(session):\n",
    "    title = session.find(\"div\").find(\"div\")['title']\n",
    "    line2 = session.select_one(\"div:nth-child(2)\")\n",
    "    district = line2.select_one(\"div>span:nth-child(1)\").text\n",
    "    num_students = line2.select_one(\"div>span:nth-child(2)\").text\n",
    "    time = line2.select_one(\"div:nth-child(2)\").text.strip()\n",
    "    start = time.split(\" - \")[0].strip()\n",
    "    end = time.split(\" - \")[1].strip()\n",
    "    return({\n",
    "        \"title\":title,\n",
    "        \"district\":district,\n",
    "        \"num_students\":num_students,\n",
    "        \"start\":start,\n",
    "        \"end\":end\n",
    "    })\n",
    "get_session(sessions[0])"
   ]
  },
  {
   "cell_type": "code",
   "execution_count": 69,
   "id": "0a92eb03",
   "metadata": {},
   "outputs": [
    {
     "data": {
      "text/plain": [
       "<div class=\"tw-text-sm tw-font-black tw-font-beatrice-medium tw-mt-3\">Wednesday, January 22 2025</div>"
      ]
     },
     "execution_count": 69,
     "metadata": {},
     "output_type": "execute_result"
    }
   ],
   "source": [
    "sessions[2]"
   ]
  },
  {
   "cell_type": "code",
   "execution_count": 71,
   "id": "fc89bb3b",
   "metadata": {},
   "outputs": [
    {
     "data": {
      "text/plain": [
       "{'title': 'Devan Marcus, Math 7 ', 'district': 'District: arva, Arkansas Virtual Academy', 'num_students': '2', 'start': '11:30 AM', 'end': '12:00 PM'}"
      ]
     },
     "execution_count": 71,
     "metadata": {},
     "output_type": "execute_result"
    }
   ],
   "source": [
    "get_session(sessions[3])"
   ]
  },
  {
   "cell_type": "code",
   "execution_count": null,
   "id": "4f174f14",
   "metadata": {},
   "outputs": [],
   "source": []
  }
 ],
 "metadata": {
  "kernelspec": {
   "display_name": "Python 3 (ipykernel)",
   "language": "python",
   "name": "python3"
  },
  "language_info": {
   "codemirror_mode": {
    "name": "ipython",
    "version": 3
   },
   "file_extension": ".py",
   "mimetype": "text/x-python",
   "name": "python",
   "nbconvert_exporter": "python",
   "pygments_lexer": "ipython3",
   "version": "3.10.12"
  }
 },
 "nbformat": 4,
 "nbformat_minor": 5
}
